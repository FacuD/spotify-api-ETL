{
  "nbformat": 4,
  "nbformat_minor": 0,
  "metadata": {
    "colab": {
      "name": "SPOTIFY_API.ipynb",
      "provenance": [],
      "collapsed_sections": [],
      "authorship_tag": "ABX9TyPWXKgw40cmjwej9OEEgebc",
      "include_colab_link": true
    },
    "kernelspec": {
      "name": "python3",
      "display_name": "Python 3"
    },
    "language_info": {
      "name": "python"
    }
  },
  "cells": [
    {
      "cell_type": "markdown",
      "metadata": {
        "id": "view-in-github",
        "colab_type": "text"
      },
      "source": [
        "<a href=\"https://colab.research.google.com/github/FacuD/spotify-api-ETL/blob/main/SPOTIFY_API.ipynb\" target=\"_parent\"><img src=\"https://colab.research.google.com/assets/colab-badge.svg\" alt=\"Open In Colab\"/></a>"
      ]
    },
    {
      "cell_type": "code",
      "source": [
        "import sqlalchemy\n",
        "import pandas as pd \n",
        "from sqlalchemy.orm import sessionmaker\n",
        "import requests\n",
        "import json\n",
        "from datetime import datetime\n",
        "import datetime\n",
        "import sqlite3"
      ],
      "metadata": {
        "id": "PQ3jxCQS0rNN"
      },
      "execution_count": null,
      "outputs": []
    },
    {
      "cell_type": "code",
      "source": [
        "DATABASE_LOCATION = \"sqlite:///my_played_tracks.sqlite\"\n",
        "USER_ID = \"\" # your Spotify username \n",
        "TOKEN = \"\" # your Spotify API token\n",
        "\n",
        "# Generate your token here:  https://developer.spotify.com/console/get-recently-played/\n",
        "# Note: You need a Spotify account (can be easily created for free)\n",
        "\n",
        "def check_data(df: pd.DataFrame) -> bool:\n",
        "    # Check if the data is empty\n",
        "    if df.empty:\n",
        "        print(\"No songs downloaded.\")\n",
        "        return False\n",
        "    # Check PK\n",
        "    # print(list(df['played_at']))\n",
        "    if not pd.Series(df['played_at']).is_unique:\n",
        "        raise Exception(\"PK is violated.\")\n",
        "    # Check for nulls\n",
        "    if df.isnull().values.any():\n",
        "        raise Exception(\"Null/s are present.\")\n",
        "\n",
        "    return True\n",
        "\n",
        "\n",
        "if __name__ == \"__main__\":\n",
        "\n",
        "    headers = {\n",
        "        \"Accept\": \"application/json\",\n",
        "        \"Content-Type\": \"application/json\",\n",
        "        \"Authorization\": f\"Bearer {TOKEN}\"\n",
        "    }\n",
        "\n",
        "    r = requests.get(\n",
        "        \"https://api.spotify.com/v1/me/player/recently-played\", headers=headers)\n",
        "    data = r.json()\n",
        "\n",
        "    # Extract\n",
        "    song_names = []\n",
        "    artist_names = []\n",
        "    played_at_list = []\n",
        "    timestamps = []\n",
        "    for song in data[\"items\"]:\n",
        "        song_names.append(song[\"track\"][\"name\"])\n",
        "        artist_names.append(song[\"track\"][\"album\"][\"artists\"][0][\"name\"])\n",
        "        played_at_list.append(song[\"played_at\"][0:-5].replace('T',' '))\n",
        "        timestamps.append(song[\"played_at\"][0:10])\n",
        "    songDict = {\n",
        "        \"song_name\": song_names,\n",
        "        \"artist_name\": artist_names,\n",
        "        \"played_at\": played_at_list,\n",
        "        \"timestamp\": timestamps\n",
        "    }\n",
        "    \n",
        "    songDf = pd.DataFrame(\n",
        "        songDict, columns=[\"song_name\", \"artist_name\", \"played_at\", \"timestamp\"])\n",
        "    # Transform (Validations)\n",
        "    if check_data(songDf):\n",
        "        print(\"Data is valid.\")\n",
        "\n",
        "    # Load\n",
        "    engine = sqlalchemy.create_engine(DATABASE_LOCATION)\n",
        "    conn = sqlite3.connect(\"my_played_tracks.sqlite\")\n",
        "    cursor = conn.cursor()\n",
        "\n",
        "    query = \"\"\"\n",
        "    CREATE TABLE IF NOT EXISTS my_played_tracks(\n",
        "      song_name VARCHAR(200),\n",
        "      artist_name VARCHAR(200),\n",
        "      played_at VARCHAR(200),\n",
        "      timestamp VARCHAR(200),\n",
        "      CONSTRAINT primary_key_constraint PRIMARY KEY (played_at)\n",
        "    )\n",
        "    \"\"\"\n",
        "\n",
        "    cursor.execute(query)\n",
        "    print(\"Database opened\")\n",
        "\n",
        "    try:\n",
        "      songDf.to_sql(\"my_played_tracks\", engine, index=False, if_exists='append')\n",
        "    except:\n",
        "      print(\"Data already exists in the database\")\n",
        "    \n",
        "    cursor.close()\n",
        "    print(\"Database closed\")\n",
        "\n",
        "  "
      ],
      "metadata": {
        "id": "cq6uCNO903Pk",
        "colab": {
          "base_uri": "https://localhost:8080/"
        },
        "outputId": "5fec12c7-ea5b-4558-a5b1-f713545c15e8"
      },
      "execution_count": null,
      "outputs": [
        {
          "output_type": "stream",
          "name": "stdout",
          "text": [
            "Data is valid.\n",
            "Database opened\n",
            "Data already exists in the database\n",
            "Database closed\n"
          ]
        }
      ]
    }
  ]
}